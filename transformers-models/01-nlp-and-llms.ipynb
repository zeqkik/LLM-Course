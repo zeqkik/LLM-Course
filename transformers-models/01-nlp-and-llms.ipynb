{
 "cells": [
  {
   "cell_type": "markdown",
   "id": "f5e86b7f",
   "metadata": {},
   "source": [
    "# Natural Language Processing and Large Language Models"
   ]
  },
  {
   "cell_type": "markdown",
   "id": "e58e21b0",
   "metadata": {},
   "source": [
    "NLP is a field that combines machine learning and linguistiscs based on get models that understands everything related to human language. **The objective not to understand only single words individually, but to be able to understand the context of those words.**\n",
    "\n",
    "The common NLP tasks are:\n",
    "\n",
    "- **Classifying whole sentences:** Sentiment analysis, Spam detecting, Grammatical check.\n",
    "- **Classifying each word in a sentence:** Identify grammatical components(noun, verb, adjective) or named entities(person, location, organization).\n",
    "- **Generetaing text content:** Complete a prompt with auto-generated text, filling blank space with masked words.\n",
    "- **Extracting an answer from a text:** Given a question and a context, extracting the answer to the question based on the context.\n",
    "- **Generating a new sentence from an input text:** Language translation, summarizing.\n"
   ]
  },
  {
   "cell_type": "markdown",
   "id": "9f3cc036",
   "metadata": {},
   "source": [
    "# Rise of Large Language Models\n",
    "\n",
    "The field of NLP was revolutionized by Large Language Models, this are AI model trained on massive amounts of text data, so, they can understand and generate human-like text, and perform a wide varity of language tastks without task-specific training. \n",
    "\n",
    "LLMs are characterized by:\n",
    "\n",
    "- **Scale:** Are built by millions, billions or even hundred of billions of parameters.\n",
    "- **Emergent abilities:** As these models grow in size, they demonstrate capabilities that weren’t explicity programmed or anticipated.\n",
    "- **General capabilities:** They can perform multiple tasks without task-specific training.\n",
    "- **In context learning:** They can learn from examples provided in the prompt.\n",
    "\n",
    "However LLMs have also important limitations:\n",
    "\n",
    "- **Hallucinations**\n",
    "- **Lack of true understanding**\n",
    "- **Bias**\n",
    "- **Context windows**\n",
    "- **Computational resources**\n",
    "\n",
    "# Why is Language processing challenging?\n",
    "\n",
    "Computers don’t process information such as humans, for example, we can easily understand the difference of the two sentences: “I am hungry” and “I am sad”, for machine learning models, such tasks are more difficult. The text needs to be processed in a way that enables the model to learn from it. There has been a lot of reasearch done on how to represent text. There many fundamental challenges remaining even for LLMs, such as understanding ambiguity, cultural context, sarcasm and humor."
   ]
  },
  {
   "cell_type": "markdown",
   "id": "3fdcbe0c",
   "metadata": {},
   "source": []
  }
 ],
 "metadata": {
  "language_info": {
   "name": "python"
  }
 },
 "nbformat": 4,
 "nbformat_minor": 5
}
