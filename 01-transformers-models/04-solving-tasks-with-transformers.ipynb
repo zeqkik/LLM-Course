{
 "cells": [
  {
   "cell_type": "markdown",
   "id": "2dc68540",
   "metadata": {},
   "source": [
    "# Solving Tasks With Transformers"
   ]
  },
  {
   "cell_type": "markdown",
   "id": "bb260fac",
   "metadata": {},
   "source": []
  }
 ],
 "metadata": {
  "language_info": {
   "name": "python"
  }
 },
 "nbformat": 4,
 "nbformat_minor": 5
}
