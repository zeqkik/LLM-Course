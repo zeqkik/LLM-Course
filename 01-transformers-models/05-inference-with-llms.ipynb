{
 "cells": [
  {
   "cell_type": "markdown",
   "id": "c3af01fe",
   "metadata": {},
   "source": [
    "# Inference With LLMs"
   ]
  },
  {
   "cell_type": "markdown",
   "id": "9e42e033",
   "metadata": {},
   "source": []
  }
 ],
 "metadata": {
  "language_info": {
   "name": "python"
  }
 },
 "nbformat": 4,
 "nbformat_minor": 5
}
